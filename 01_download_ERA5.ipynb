{
 "cells": [
  {
   "cell_type": "markdown",
   "metadata": {},
   "source": [
    "# Download selected ERA5 data from ECMWF CDS"
   ]
  },
  {
   "cell_type": "markdown",
   "metadata": {},
   "source": [
    "We want to download a subset of the ERA5 surface forcing fields from ECMWF's Climate Data Store (CDS). One convenient way to do this is to use their CDS API. Below is some code that uses the CDS API to download some ECMWF forcing files. \n",
    "\n",
    "NOTE: The specifics of the subset (e.g. which days, times, and which region) are set in `era5_helper.get_field`"
   ]
  },
  {
   "cell_type": "markdown",
   "metadata": {},
   "source": [
    "### Install missing packages"
   ]
  },
  {
   "cell_type": "code",
   "execution_count": 5,
   "metadata": {},
   "outputs": [
    {
     "name": "stdout",
     "output_type": "stream",
     "text": [
      "Processing /users/dannes/.cache/pip/wheels/b3/da/d4/76acb1b249ba411fb70ca7baf0d6ab7d6177e1f0d14f1383c1/cdsapi-0.5.1-py2.py3-none-any.whl\n",
      "Collecting tqdm\n",
      "\u001b[?25l  Downloading https://files.pythonhosted.org/packages/47/bb/849011636c4da2e44f1253cd927cfb20ada4374d8b3a4e425416e84900cc/tqdm-4.64.1-py2.py3-none-any.whl (78kB)\n",
      "\u001b[K     |████████████████████████████████| 81kB 4.0MB/s eta 0:00:011\n",
      "\u001b[?25hCollecting requests>=2.5.0\n",
      "\u001b[?25l  Downloading https://files.pythonhosted.org/packages/d2/f4/274d1dbe96b41cf4e0efb70cbced278ffd61b5c7bb70338b62af94ccb25b/requests-2.28.2-py3-none-any.whl (62kB)\n",
      "\u001b[K     |████████████████████████████████| 71kB 6.3MB/s  eta 0:00:01\n",
      "\u001b[?25hCollecting idna<4,>=2.5\n",
      "\u001b[?25l  Downloading https://files.pythonhosted.org/packages/fc/34/3030de6f1370931b9dbb4dad48f6ab1015ab1d32447850b9fc94e60097be/idna-3.4-py3-none-any.whl (61kB)\n",
      "\u001b[K     |████████████████████████████████| 71kB 7.4MB/s  eta 0:00:01\n",
      "\u001b[?25hRequirement already satisfied: certifi>=2017.4.17 in /users/dannes/conda-envs/MyEnvironment/lib/python3.7/site-packages (from requests>=2.5.0->cdsapi) (2019.11.28)\n",
      "Collecting urllib3<1.27,>=1.21.1\n",
      "\u001b[?25l  Downloading https://files.pythonhosted.org/packages/fe/ca/466766e20b767ddb9b951202542310cba37ea5f2d792dae7589f1741af58/urllib3-1.26.14-py2.py3-none-any.whl (140kB)\n",
      "\u001b[K     |████████████████████████████████| 143kB 32.5MB/s eta 0:00:01\n",
      "\u001b[?25hCollecting charset-normalizer<4,>=2\n",
      "\u001b[?25l  Downloading https://files.pythonhosted.org/packages/c1/b2/d81606aebeb7e9a33dc877ff3a206c9946f5bb374c99d22d4a28825aa270/charset_normalizer-3.0.1-cp37-cp37m-manylinux_2_17_x86_64.manylinux2014_x86_64.whl (170kB)\n",
      "\u001b[K     |████████████████████████████████| 174kB 33.5MB/s eta 0:00:01\n",
      "\u001b[?25hInstalling collected packages: tqdm, idna, urllib3, charset-normalizer, requests, cdsapi\n",
      "Successfully installed cdsapi-0.5.1 charset-normalizer-3.0.1 idna-3.4 requests-2.28.2 tqdm-4.64.1 urllib3-1.26.14\n"
     ]
    }
   ],
   "source": [
    "!pip install cdsapi"
   ]
  },
  {
   "cell_type": "markdown",
   "metadata": {},
   "source": [
    "### Import modules"
   ]
  },
  {
   "cell_type": "code",
   "execution_count": 6,
   "metadata": {},
   "outputs": [],
   "source": [
    "# Use this environment on BAS HPC: /packages/python/miniconda3/bin/python\n",
    "\n",
    "import era5_helper as era5"
   ]
  },
  {
   "cell_type": "markdown",
   "metadata": {},
   "source": [
    "### Select file format, fields, filenames"
   ]
  },
  {
   "cell_type": "code",
   "execution_count": 7,
   "metadata": {},
   "outputs": [],
   "source": [
    "# select format ('grib' or 'netcdf')\n",
    "file_format = 'netcdf'\n",
    "\n",
    "# define variable names to be downloaded\n",
    "variable_names = ['10m_u_component_of_wind', \n",
    "                  '10m_v_component_of_wind']\n",
    "#variable_names = ['10m_u_component_of_wind', \n",
    "#                  '10m_v_component_of_wind', \n",
    "#                  '2m_dewpoint_temperature',\n",
    "#                  '2m_temperature', \n",
    "#                  'evaporation', \n",
    "#                  'runoff',\n",
    "#                  'surface_pressure', \n",
    "#                  'surface_solar_radiation_downwards', \n",
    "#                  'surface_thermal_radiation_downwards',\n",
    "#                  'total_precipitation']\n",
    "\n",
    "# select file names for output\n",
    "file_names = ['ERA5_sowise_u10m',\n",
    "              'ERA5_sowise_v10m']\n",
    "#file_names = ['ERA5_sowise_u10m',\n",
    "#              'ERA5_sowise_v10m',\n",
    "#              'ERA5_sowise_dewpt2m',\n",
    "#              'ERA5_sowise_tmp2m_degK',\n",
    "#              'ERA5_sowise_evap',\n",
    "#              'ERA5_sowise_runoff',\n",
    "#              'ERA5_sowise_pres',\n",
    "#              'ERA5_sowise_dsw',\n",
    "#              'ERA5_sowise_dlw',\n",
    "#              'ERA5_sowise_precip']\n",
    "\n",
    "# select years to download\n",
    "#years = ['1992','1993','1994','1995','1996','1997','1998','1999','2000','2001',\n",
    "#         '2002','2003','2004','2005','2006','2007','2008','2009','2010','2011',\n",
    "#         '2012','2013','2014','2015','2016','2017','2018','2019','2020']\n",
    "years = ['1992']"
   ]
  },
  {
   "cell_type": "markdown",
   "metadata": {},
   "source": [
    "### Set directory and file name structure"
   ]
  },
  {
   "cell_type": "code",
   "execution_count": 8,
   "metadata": {},
   "outputs": [],
   "source": [
    "# set directory name based on format\n",
    "if file_format=='netcdf':\n",
    "  file_root_dir = 'netcdf_tmp/'\n",
    "elif file_format=='grib':\n",
    "  file_root_dir = 'grib/'\n",
    "else:\n",
    "  print('ERA5: Format must be either grib or netcdf')\n",
    "\n",
    "# add the root to the file names\n",
    "file_names = [file_root_dir + s for s in file_names]"
   ]
  },
  {
   "cell_type": "markdown",
   "metadata": {},
   "source": [
    "### Download data using CDS API"
   ]
  },
  {
   "cell_type": "code",
   "execution_count": 9,
   "metadata": {},
   "outputs": [
    {
     "name": "stdout",
     "output_type": "stream",
     "text": [
      "Now acquiring field:  10m_u_component_of_wind \n",
      " Local filename:  netcdf_tmp/ERA5_sowise_u10m \n",
      " Year:  1992 \n",
      " Format:  netcdf\n"
     ]
    },
    {
     "name": "stderr",
     "output_type": "stream",
     "text": [
      "2023-02-04 09:56:59,657 INFO Welcome to the CDS\n",
      "2023-02-04 09:56:59,659 INFO Sending request to https://cds.climate.copernicus.eu/api/v2/resources/reanalysis-era5-single-levels\n",
      "2023-02-04 09:56:59,911 INFO Request is queued\n",
      "2023-02-04 09:57:00,954 INFO Request is running\n",
      "2023-02-04 09:58:53,745 INFO Request is completed\n",
      "2023-02-04 09:58:53,747 INFO Downloading https://download-0006-clone.copernicus-climate.eu/cache-compute-0006/cache/data4/adaptor.mars.internal-1675504706.2156987-25503-15-7eb67a65-d9ef-4b01-b816-e0c2c478f379.nc to netcdf_tmp/ERA5_sowise_u10m_1992.nc (501.3M)\n",
      "2023-02-04 09:59:39,933 INFO Download rate 10.9M/s \n",
      "2023-02-04 09:59:40,020 INFO Welcome to the CDS\n",
      "2023-02-04 09:59:40,021 INFO Sending request to https://cds.climate.copernicus.eu/api/v2/resources/reanalysis-era5-single-levels\n"
     ]
    },
    {
     "name": "stdout",
     "output_type": "stream",
     "text": [
      "Now acquiring field:  10m_v_component_of_wind \n",
      " Local filename:  netcdf_tmp/ERA5_sowise_v10m \n",
      " Year:  1992 \n",
      " Format:  netcdf\n"
     ]
    },
    {
     "name": "stderr",
     "output_type": "stream",
     "text": [
      "2023-02-04 09:59:40,228 INFO Request is queued\n",
      "2023-02-04 09:59:41,271 INFO Request is running\n",
      "2023-02-04 10:01:34,081 INFO Request is completed\n",
      "2023-02-04 10:01:34,082 INFO Downloading https://download-0015-clone.copernicus-climate.eu/cache-compute-0015/cache/data9/adaptor.mars.internal-1675504850.895411-7107-8-22663692-035f-42ad-8b4e-7f0b5465b9c7.nc to netcdf_tmp/ERA5_sowise_v10m_1992.nc (501.3M)\n",
      "2023-02-04 10:02:07,158 INFO Download rate 15.2M/s \n"
     ]
    }
   ],
   "source": [
    "# -- loop over variables and years to download individual files\n",
    "for variable_name, file_name in zip(variable_names, file_names):\n",
    "    for year in years:\n",
    "\n",
    "        # show which request we're now making\n",
    "        print('Now acquiring field: ',variable_name,'\\n',\n",
    "              'Local filename: ',file_name,'\\n',\n",
    "              'Year: ',year,'\\n',\n",
    "              'Format: ',file_format)\n",
    "\n",
    "        # call function to make the API request \n",
    "        era5.get_field(variable_name,\n",
    "                       year,\n",
    "                       file_name + '_' + year,\n",
    "                       file_format=file_format)"
   ]
  },
  {
   "cell_type": "code",
   "execution_count": null,
   "metadata": {},
   "outputs": [],
   "source": []
  }
 ],
 "metadata": {
  "kernelspec": {
   "display_name": "Python [conda env:MyEnvironment]",
   "language": "python",
   "name": "conda-env-MyEnvironment-py"
  },
  "language_info": {
   "codemirror_mode": {
    "name": "ipython",
    "version": 3
   },
   "file_extension": ".py",
   "mimetype": "text/x-python",
   "name": "python",
   "nbconvert_exporter": "python",
   "pygments_lexer": "ipython3",
   "version": "3.7.5"
  }
 },
 "nbformat": 4,
 "nbformat_minor": 4
}
